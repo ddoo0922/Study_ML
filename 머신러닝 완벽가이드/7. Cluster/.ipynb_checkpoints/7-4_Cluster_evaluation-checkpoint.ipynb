{
 "cells": [
  {
   "cell_type": "markdown",
   "id": "8726de28-edca-4274-bc32-c5226aab3477",
   "metadata": {},
   "source": [
    "### 군집화"
   ]
  },
  {
   "cell_type": "code",
   "execution_count": 1,
   "id": "5703cefc-3bf6-444c-a8db-91df578a68d6",
   "metadata": {},
   "outputs": [],
   "source": [
    "from sklearn.datasets import load_iris\n",
    "import pandas as pd\n",
    "import matplotlib.pyplot as plt\n",
    "%matplotlib inline"
   ]
  },
  {
   "cell_type": "code",
   "execution_count": 2,
   "id": "a36e3719-2c96-4889-a304-fcc4a57ade10",
   "metadata": {},
   "outputs": [
    {
     "data": {
      "text/html": [
       "<div>\n",
       "<style scoped>\n",
       "    .dataframe tbody tr th:only-of-type {\n",
       "        vertical-align: middle;\n",
       "    }\n",
       "\n",
       "    .dataframe tbody tr th {\n",
       "        vertical-align: top;\n",
       "    }\n",
       "\n",
       "    .dataframe thead th {\n",
       "        text-align: right;\n",
       "    }\n",
       "</style>\n",
       "<table border=\"1\" class=\"dataframe\">\n",
       "  <thead>\n",
       "    <tr style=\"text-align: right;\">\n",
       "      <th></th>\n",
       "      <th>sepal_length</th>\n",
       "      <th>sepal_width</th>\n",
       "      <th>petal_length</th>\n",
       "      <th>petal_width</th>\n",
       "      <th>target</th>\n",
       "    </tr>\n",
       "  </thead>\n",
       "  <tbody>\n",
       "    <tr>\n",
       "      <th>0</th>\n",
       "      <td>5.1</td>\n",
       "      <td>3.5</td>\n",
       "      <td>1.4</td>\n",
       "      <td>0.2</td>\n",
       "      <td>0</td>\n",
       "    </tr>\n",
       "    <tr>\n",
       "      <th>1</th>\n",
       "      <td>4.9</td>\n",
       "      <td>3.0</td>\n",
       "      <td>1.4</td>\n",
       "      <td>0.2</td>\n",
       "      <td>0</td>\n",
       "    </tr>\n",
       "    <tr>\n",
       "      <th>2</th>\n",
       "      <td>4.7</td>\n",
       "      <td>3.2</td>\n",
       "      <td>1.3</td>\n",
       "      <td>0.2</td>\n",
       "      <td>0</td>\n",
       "    </tr>\n",
       "  </tbody>\n",
       "</table>\n",
       "</div>"
      ],
      "text/plain": [
       "   sepal_length  sepal_width  petal_length  petal_width  target\n",
       "0           5.1          3.5           1.4          0.2       0\n",
       "1           4.9          3.0           1.4          0.2       0\n",
       "2           4.7          3.2           1.3          0.2       0"
      ]
     },
     "execution_count": 2,
     "metadata": {},
     "output_type": "execute_result"
    }
   ],
   "source": [
    "iris = load_iris()\n",
    "columns =['sepal_length', 'sepal_width','petal_length','petal_width']\n",
    "irisDF = pd.DataFrame(iris.data, columns = columns)\n",
    "irisDF['target'] = iris.target\n",
    "irisDF.head(3)"
   ]
  },
  {
   "cell_type": "code",
   "execution_count": 5,
   "id": "55cd5cab-8256-4659-9459-a8a0872d015a",
   "metadata": {},
   "outputs": [
    {
     "data": {
      "image/png": "[encoded data removed]",
      "text/plain": [
       "<Figure size 432x288 with 1 Axes>"
      ]
     },
     "metadata": {
      "needs_background": "light"
     },
     "output_type": "display_data"
    }
   ],
   "source": [
    "markers=['^','s','o']\n",
    "\n",
    "for i, marker in enumerate(markers):\n",
    "    x_axis_data = irisDF[irisDF['target']==i]['sepal_length']\n",
    "    y_axis_data = irisDF[irisDF['target']==i]['sepal_width']    \n",
    "    plt.scatter(x_axis_data, y_axis_data, marker=marker, label=iris.target_names[i])\n",
    "\n",
    "plt.legend()\n",
    "plt.show()"
   ]
  },
  {
   "cell_type": "markdown",
   "id": "bbd037f9-ec2c-4e8d-b5bd-b267e4cf81dd",
   "metadata": {},
   "source": [
    "### 군집화 평가 (실루엣 분석)"
   ]
  },
  {
   "cell_type": "code",
   "execution_count": null,
   "id": "87e7e4a2-3122-4ecc-a062-61966a26866e",
   "metadata": {},
   "outputs": [],
   "source": [
    "# aij는 자신의 군집에서 다른 데이터 포인터까지의 거리 Ex) a12는 1번과 2번 모두 a집단에 있고 1,2번까지의 거리\n",
    "# a(i)는 i 데이터가 군집내 다른 데이터까지의 평균 거리 Ex) a(1) = mean(a12,a13,a14)\n",
    "# b(1)는 i 데이터가 가장 가까운 다른 군집의 데이터들과 평균 거리 Ex) b(1) = mean(b15,b16,b17)\n",
    "\n",
    "# s(i) 실루엣 계수: -1부터 1사이의 값을 갖는다.\n",
    "# 1에 가까울 수록 근처 군집과 멀리 떨어져있다.\n",
    "# 0에 가까울수록 근처 군집과 가깝다.\n",
    "# -1에 가까울수록 아예 다른 군잡에 데이터 포인트가 할당 됐음."
   ]
  },
  {
   "cell_type": "code",
   "execution_count": null,
   "id": "ed443961-8bdf-4778-92b9-ade983891474",
   "metadata": {},
   "outputs": [],
   "source": []
  }
 ],
 "metadata": {
  "kernelspec": {
   "display_name": "pattern",
   "language": "python",
   "name": "pattern"
  },
  "language_info": {
   "codemirror_mode": {
    "name": "ipython",
    "version": 3
   },
   "file_extension": ".py",
   "mimetype": "text/x-python",
   "name": "python",
   "nbconvert_exporter": "python",
   "pygments_lexer": "ipython3",
   "version": "3.8.12"
  }
 },
 "nbformat": 4,
 "nbformat_minor": 5
}
