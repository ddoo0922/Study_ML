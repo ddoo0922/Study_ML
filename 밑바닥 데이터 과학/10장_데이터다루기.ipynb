{
 "cells": [
  {
   "cell_type": "markdown",
   "id": "b6bcd189-4c4f-4ce5-80ba-7325c12666ec",
   "metadata": {},
   "source": [
    "## 1차원 데이터 다루기"
   ]
  },
  {
   "cell_type": "markdown",
   "id": "27a7816c-df67-4780-badc-18d436162fb1",
   "metadata": {},
   "source": [
    "히스토그램 만들기"
   ]
  },
  {
   "cell_type": "code",
   "execution_count": 6,
   "id": "6224616d-0cdc-4128-98e0-9961b25f9842",
   "metadata": {},
   "outputs": [],
   "source": [
    "from typing import List, Dict\n",
    "from collections import Counter\n",
    "import math"
   ]
  },
  {
   "cell_type": "code",
   "execution_count": 7,
   "id": "81deaf77-3ca0-497c-98c8-4517c392937d",
   "metadata": {},
   "outputs": [],
   "source": [
    "import matplotlib.pyplot as plt"
   ]
  },
  {
   "cell_type": "code",
   "execution_count": 8,
   "id": "21eb63e4-9869-4b90-9d24-73ed6f8eb4b4",
   "metadata": {},
   "outputs": [],
   "source": [
    "def bucketize(point: float, bucket_size: float) -> float:\n",
    "    return bucket_size * math.floor(point/ bucket_size)\n",
    "# 각 데이터를 bucket_size의 배수에 해당하는 구간에 위치"
   ]
  },
  {
   "cell_type": "code",
   "execution_count": 11,
   "id": "05641395-f667-4b1b-acb4-fa24e0242e45",
   "metadata": {},
   "outputs": [],
   "source": [
    "def make_histogram(points: List[float], bucket_size:float) -> Dict[float, int]: #구간을 생성하고 각 구간 안의 데이터 개수를 계산\n",
    "    return Counter(bucketize(point, bucket_size) for point in points)\n",
    "\n",
    "def plot_histogram(points: List[float], bucket_size: float, title: str =\"\"):\n",
    "    histogram = make_histogram(points, bucket_size)\n",
    "    plt.bar(histogram.keys(), histogram.values(), width= bucket_size)\n",
    "    plt.title(title)"
   ]
  },
  {
   "cell_type": "code",
   "execution_count": 12,
   "id": "793cda85-f366-4e38-85fb-4ef6d38dc8a7",
   "metadata": {},
   "outputs": [
    {
     "data": {
      "image/png": "[encoded data removed]",
      "text/plain": [
       "<Figure size 432x288 with 1 Axes>"
      ]
     },
     "metadata": {
      "needs_background": "light"
     },
     "output_type": "display_data"
    }
   ],
   "source": [
    "import random\n",
    "# from scratch.probability import inverse_normal_cdf\n",
    "\n",
    "random.seed(0)\n",
    "\n",
    "uniform = [200 * random.random()-100 for _ in range(10000)]\n",
    "\n",
    "# normal= [57 * inverse_normal_cdf(random.random())\n",
    "#          for _ in range(10000)]\n",
    "\n",
    "plot_histogram(uniform, 10, \"unifrom Histo\")"
   ]
  },
  {
   "cell_type": "markdown",
   "id": "b4aaee0a-c191-4c62-bea8-aca737ccc408",
   "metadata": {},
   "source": [
    "다차원 데이터"
   ]
  },
  {
   "cell_type": "code",
   "execution_count": 7,
   "id": "154297e5-4f24-4940-87a5-45ee5f66502d",
   "metadata": {},
   "outputs": [],
   "source": [
    "import datetime\n",
    "\n",
    "# stock_price= {'closing_price': 106.03,\n",
    "#               'date' : datetime.date(2022,4,4),\n",
    "#               'symbol': 'AAPL'}"
   ]
  },
  {
   "cell_type": "code",
   "execution_count": 8,
   "id": "1e0e2692-403b-4048-8b11-d226f621c7a4",
   "metadata": {},
   "outputs": [],
   "source": [
    "from collections import namedtuple"
   ]
  },
  {
   "cell_type": "code",
   "execution_count": 14,
   "id": "ea7156f7-e73e-41e4-ae86-47db99a62dfa",
   "metadata": {},
   "outputs": [
    {
     "ename": "NameError",
     "evalue": "name 'closing_price' is not defined",
     "output_type": "error",
     "traceback": [
      "\u001b[1;31m---------------------------------------------------------------------------\u001b[0m",
      "\u001b[1;31mNameError\u001b[0m                                 Traceback (most recent call last)",
      "\u001b[1;32m~\\AppData\\Local\\Temp/ipykernel_22872/1340029722.py\u001b[0m in \u001b[0;36m<module>\u001b[1;34m\u001b[0m\n\u001b[0;32m      3\u001b[0m \u001b[1;33m\u001b[0m\u001b[0m\n\u001b[0;32m      4\u001b[0m \u001b[1;32massert\u001b[0m \u001b[0mprice\u001b[0m\u001b[1;33m.\u001b[0m\u001b[0msymbol\u001b[0m \u001b[1;33m==\u001b[0m \u001b[1;34m'MSFT'\u001b[0m\u001b[1;33m\u001b[0m\u001b[1;33m\u001b[0m\u001b[0m\n\u001b[1;32m----> 5\u001b[1;33m \u001b[1;32massert\u001b[0m \u001b[0mclosing_price\u001b[0m \u001b[1;33m==\u001b[0m \u001b[1;36m106.03\u001b[0m\u001b[1;33m\u001b[0m\u001b[1;33m\u001b[0m\u001b[0m\n\u001b[0m",
      "\u001b[1;31mNameError\u001b[0m: name 'closing_price' is not defined"
     ]
    }
   ],
   "source": [
    "StockPrice = namedtuple('StockPrice', ['symbol','date','closing_price'])\n",
    "price = StockPrice('MSFT', datetime.date(2022, 4, 4), 106.03)\n",
    "\n",
    "assert price.symbol == 'MSFT'\n",
    "assert closing_price == 106.03"
   ]
  },
  {
   "cell_type": "code",
   "execution_count": 11,
   "id": "079a76a4-700d-45a3-902c-1324c6694539",
   "metadata": {},
   "outputs": [],
   "source": [
    "from dateutil.parser import parse"
   ]
  },
  {
   "cell_type": "code",
   "execution_count": 28,
   "id": "5c2bcf37-def3-42c0-8f7b-2c7b4a380682",
   "metadata": {},
   "outputs": [],
   "source": [
    "def parse_row(row: List[str])-> StockPrice:\n",
    "    symbol, date, closing_price = row\n",
    "    return StockPrice(symbol=symbol,\n",
    "                      date = parse(date).date(),\n",
    "                      closing_price = float(closing_price))"
   ]
  },
  {
   "cell_type": "code",
   "execution_count": 34,
   "id": "dd1a1684-d86d-4149-9ccc-50c309874141",
   "metadata": {},
   "outputs": [],
   "source": [
    "stock = parse_row([\"MSFT\", \"2018-12-14\",\"106.03\"])"
   ]
  },
  {
   "cell_type": "code",
   "execution_count": 35,
   "id": "fa2e4eed-3760-4087-ab1b-633e6b430745",
   "metadata": {},
   "outputs": [],
   "source": [
    "assert stock.symbol == \"MSFT\""
   ]
  },
  {
   "cell_type": "code",
   "execution_count": 39,
   "id": "77b8dc65-3255-4eec-a3aa-3b95b65ecc25",
   "metadata": {},
   "outputs": [],
   "source": [
    "# from collections import defaultdict\n",
    "\n",
    "# max_prices: Dict[str, float]= defaultdict(lambda: float('_inf'))\n",
    "\n",
    "# for sp in data:\n",
    "#     symbol, closing_price = sp.symbol, sp.closing_price\n",
    "#     if closing_price > max_prices[symbol]:\n",
    "#         max_prices[symbol] = closing_price"
   ]
  },
  {
   "cell_type": "code",
   "execution_count": null,
   "id": "f6dc8b2f-e6d2-4fe1-a8eb-43f3257fc031",
   "metadata": {},
   "outputs": [],
   "source": []
  }
 ],
 "metadata": {
  "kernelspec": {
   "display_name": "pattern",
   "language": "python",
   "name": "pattern"
  },
  "language_info": {
   "codemirror_mode": {
    "name": "ipython",
    "version": 3
   },
   "file_extension": ".py",
   "mimetype": "text/x-python",
   "name": "python",
   "nbconvert_exporter": "python",
   "pygments_lexer": "ipython3",
   "version": "3.8.12"
  }
 },
 "nbformat": 4,
 "nbformat_minor": 5
}
